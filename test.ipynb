{
 "cells": [
  {
   "cell_type": "code",
   "execution_count": 1,
   "id": "2c983291",
   "metadata": {},
   "outputs": [
    {
     "name": "stderr",
     "output_type": "stream",
     "text": [
      "llama_init_from_model: n_ctx_per_seq (4096) < n_ctx_train (131072) -- the full capacity of the model will not be utilized\n",
      "/home/chenshaohong/.venv/lib/python3.12/site-packages/guidance/chat.py:80: UserWarning: Chat template {% set loop_messages = messages %}{% for message in loop_messages %}{% set content = '<|start_header_id|>' + message['role'] + '<|end_header_id|>\n",
      "\n",
      "'+ message['content'] | trim + '<|eot_id|>' %}{% if loop.index0 == 0 %}{% set content = bos_token + content %}{% endif %}{{ content }}{% endfor %}{{ '<|start_header_id|>assistant<|end_header_id|>\n",
      "\n",
      "' }} was unable to be loaded directly into guidance.\n",
      "                        Defaulting to the ChatML format which may not be optimal for the selected model. \n",
      "                        For best results, create and pass in a `guidance.ChatTemplate` subclass for your model.\n",
      "  warnings.warn(\n"
     ]
    },
    {
     "data": {
      "application/vnd.jupyter.widget-view+json": {
       "model_id": "cafdc0b5a7484c1bb71d1dbe16edb8a4",
       "version_major": 2,
       "version_minor": 0
      },
      "text/plain": [
       "StitchWidget(initial_height='auto', initial_width='100%', srcdoc='<!doctype html>\\n<html lang=\"en\">\\n<head>\\n …"
      ]
     },
     "metadata": {},
     "output_type": "display_data"
    },
    {
     "name": "stderr",
     "output_type": "stream",
     "text": [
      "Error in monitoring: sleep length must be non-negative\n"
     ]
    }
   ],
   "source": [
    "from transformers import AutoModelForCausalLM, AutoTokenizer\n",
    "\n",
    "import llama_cpp\n",
    "from guidance import models, gen, user, assistant, system\n",
    "from tqdm import tqdm\n",
    "from transformers import AutoTokenizer, AutoModelForCausalLM\n",
    "\n",
    "tokenizer = AutoTokenizer.from_pretrained(\"deepseek-ai/DeepSeek-R1-Distill-Llama-8B\")\n",
    "\n",
    "# llm = llama_cpp.Llama.from_pretrained(\n",
    "#     repo_id='unsloth/DeepSeek-R1-Distill-Llama-8B-GGUF',\n",
    "#     filename='DeepSeek-R1-Distill-Llama-8B-Q6_K.gguf',\n",
    "#     n_gpu_layers=-1,\n",
    "#     logits_all=True,\n",
    "#     n_ctx=4096,\n",
    "#     verbose=False,\n",
    "#     seed=19181111,\n",
    "# )   \n",
    "\n",
    "llm = llama_cpp.Llama.from_pretrained(\n",
    "    repo_id='QuantFactory/Meta-Llama-3.1-8B-Instruct-GGUF',\n",
    "    filename='Meta-Llama-3.1-8B-Instruct.Q6_K.gguf',\n",
    "    n_gpu_layers=-1,\n",
    "    logits_all=True,\n",
    "    n_ctx=4096,\n",
    "    verbose=False,\n",
    "    seed=19181111,\n",
    ")       \n",
    "\n",
    "\n",
    "\n",
    "guidance_model = models.LlamaCpp(llm, compute_log_probs=True)\n"
   ]
  },
  {
   "cell_type": "code",
   "execution_count": 5,
   "id": "fa0e4cf3",
   "metadata": {},
   "outputs": [
    {
     "data": {
      "application/vnd.jupyter.widget-view+json": {
       "model_id": "15dfa5ffd52d4b88835ffdc75eb2cf92",
       "version_major": 2,
       "version_minor": 0
      },
      "text/plain": [
       "StitchWidget(initial_height='auto', initial_width='100%', srcdoc='<!doctype html>\\n<html lang=\"en\">\\n<head>\\n …"
      ]
     },
     "metadata": {},
     "output_type": "display_data"
    }
   ],
   "source": [
    "messages = [\n",
    "    {\n",
    "        \"role\": \"user\",\n",
    "        \"content\": \"What is the capital of France?\"\n",
    "    }\n",
    "]\n",
    "\n",
    "\n",
    "with user():\n",
    "    generation = guidance_model + \"What is the capital of France?\"\n",
    "\n",
    "with assistant():\n",
    "    generation = generation + gen(\n",
    "        max_tokens=50,\n",
    "        temperature=0.7,\n",
    "    )\n",
    "\n"
   ]
  }
 ],
 "metadata": {
  "kernelspec": {
   "display_name": ".venv",
   "language": "python",
   "name": "python3"
  },
  "language_info": {
   "codemirror_mode": {
    "name": "ipython",
    "version": 3
   },
   "file_extension": ".py",
   "mimetype": "text/x-python",
   "name": "python",
   "nbconvert_exporter": "python",
   "pygments_lexer": "ipython3",
   "version": "3.12.3"
  }
 },
 "nbformat": 4,
 "nbformat_minor": 5
}
